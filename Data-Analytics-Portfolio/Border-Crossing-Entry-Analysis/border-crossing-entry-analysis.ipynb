{
 "cells": [
  {
   "cell_type": "markdown",
   "metadata": {},
   "source": [
    "## Import Libraries"
   ]
  },
  {
   "cell_type": "code",
   "execution_count": 1,
   "metadata": {
    "ExecuteTime": {
     "end_time": "2024-04-30T22:00:03.288202Z",
     "start_time": "2024-04-30T22:00:02.728472Z"
    }
   },
   "outputs": [],
   "source": [
    "import pandas as pd\n",
    "import googlemaps\n",
    "import gmaps\n",
    "import gmaps.datasets\n",
    "import gmaps.geojson_geometries\n",
    "import matplotlib.pyplot as plt"
   ]
  },
  {
   "cell_type": "markdown",
   "metadata": {},
   "source": [
    "## Access Keys"
   ]
  },
  {
   "cell_type": "code",
   "execution_count": 2,
   "metadata": {
    "ExecuteTime": {
     "end_time": "2024-04-30T22:00:04.133943Z",
     "start_time": "2024-04-30T22:00:04.128513Z"
    }
   },
   "outputs": [],
   "source": [
    "f = open('gmap_api_key.txt', 'r')\n",
    "my_api_key = f.read()\n",
    "f.close()\n",
    "\n",
    "# Set up Gmaps API client\n",
    "gmaps.configure(api_key=my_api_key)\n",
    "\n",
    "# Set up Google Maps API client\n",
    "gms = googlemaps.Client(key=my_api_key)"
   ]
  },
  {
   "cell_type": "markdown",
   "metadata": {},
   "source": [
    "## Import dataset"
   ]
  },
  {
   "cell_type": "code",
   "execution_count": 3,
   "metadata": {
    "ExecuteTime": {
     "end_time": "2024-04-30T22:00:07.624806Z",
     "start_time": "2024-04-30T22:00:07.305097Z"
    }
   },
   "outputs": [],
   "source": [
    "df = pd.read_csv(r'Border_Crossing_Entry_Data.csv')"
   ]
  },
  {
   "cell_type": "code",
   "execution_count": 4,
   "metadata": {
    "ExecuteTime": {
     "end_time": "2024-04-30T22:00:08.174522Z",
     "start_time": "2024-04-30T22:00:08.141154Z"
    }
   },
   "outputs": [
    {
     "data": {
      "text/html": [
       "<div>\n",
       "<style scoped>\n",
       "    .dataframe tbody tr th:only-of-type {\n",
       "        vertical-align: middle;\n",
       "    }\n",
       "\n",
       "    .dataframe tbody tr th {\n",
       "        vertical-align: top;\n",
       "    }\n",
       "\n",
       "    .dataframe thead th {\n",
       "        text-align: right;\n",
       "    }\n",
       "</style>\n",
       "<table border=\"1\" class=\"dataframe\">\n",
       "  <thead>\n",
       "    <tr style=\"text-align: right;\">\n",
       "      <th></th>\n",
       "      <th>Port Name</th>\n",
       "      <th>State</th>\n",
       "      <th>Port Code</th>\n",
       "      <th>Border</th>\n",
       "      <th>Date</th>\n",
       "      <th>Measure</th>\n",
       "      <th>Value</th>\n",
       "      <th>Latitude</th>\n",
       "      <th>Longitude</th>\n",
       "      <th>Point</th>\n",
       "    </tr>\n",
       "  </thead>\n",
       "  <tbody>\n",
       "    <tr>\n",
       "      <th>335449</th>\n",
       "      <td>Baudette</td>\n",
       "      <td>Minnesota</td>\n",
       "      <td>3424</td>\n",
       "      <td>US-Canada Border</td>\n",
       "      <td>Oct 1998</td>\n",
       "      <td>Trucks</td>\n",
       "      <td>412</td>\n",
       "      <td>48.719</td>\n",
       "      <td>-94.590</td>\n",
       "      <td>POINT (-94.590467 48.719109)</td>\n",
       "    </tr>\n",
       "    <tr>\n",
       "      <th>253031</th>\n",
       "      <td>Turner</td>\n",
       "      <td>Montana</td>\n",
       "      <td>3306</td>\n",
       "      <td>US-Canada Border</td>\n",
       "      <td>Jun 2005</td>\n",
       "      <td>Trucks</td>\n",
       "      <td>20</td>\n",
       "      <td>49.000</td>\n",
       "      <td>-108.388</td>\n",
       "      <td>POINT (-108.387916 48.999527)</td>\n",
       "    </tr>\n",
       "    <tr>\n",
       "      <th>188369</th>\n",
       "      <td>Laredo</td>\n",
       "      <td>Texas</td>\n",
       "      <td>2304</td>\n",
       "      <td>US-Mexico Border</td>\n",
       "      <td>Apr 2009</td>\n",
       "      <td>Rail Containers Loaded</td>\n",
       "      <td>10065</td>\n",
       "      <td>27.500</td>\n",
       "      <td>-99.507</td>\n",
       "      <td>POINT (-99.507412 27.499561)</td>\n",
       "    </tr>\n",
       "    <tr>\n",
       "      <th>9525</th>\n",
       "      <td>International Falls</td>\n",
       "      <td>Minnesota</td>\n",
       "      <td>3604</td>\n",
       "      <td>US-Canada Border</td>\n",
       "      <td>Dec 2021</td>\n",
       "      <td>Personal Vehicle Passengers</td>\n",
       "      <td>6152</td>\n",
       "      <td>48.608</td>\n",
       "      <td>-93.401</td>\n",
       "      <td>POINT (-93.401355 48.6078)</td>\n",
       "    </tr>\n",
       "    <tr>\n",
       "      <th>96092</th>\n",
       "      <td>Richford</td>\n",
       "      <td>Vermont</td>\n",
       "      <td>203</td>\n",
       "      <td>US-Canada Border</td>\n",
       "      <td>Apr 2014</td>\n",
       "      <td>Personal Vehicle Passengers</td>\n",
       "      <td>17124</td>\n",
       "      <td>45.012</td>\n",
       "      <td>-72.589</td>\n",
       "      <td>POINT (-72.588559 45.01174)</td>\n",
       "    </tr>\n",
       "    <tr>\n",
       "      <th>85146</th>\n",
       "      <td>Whitlash</td>\n",
       "      <td>Montana</td>\n",
       "      <td>3321</td>\n",
       "      <td>US-Canada Border</td>\n",
       "      <td>May 2015</td>\n",
       "      <td>Personal Vehicle Passengers</td>\n",
       "      <td>107</td>\n",
       "      <td>48.997</td>\n",
       "      <td>-111.258</td>\n",
       "      <td>POINT (-111.257916 48.99725)</td>\n",
       "    </tr>\n",
       "    <tr>\n",
       "      <th>368959</th>\n",
       "      <td>Laurier</td>\n",
       "      <td>Washington</td>\n",
       "      <td>3016</td>\n",
       "      <td>US-Canada Border</td>\n",
       "      <td>Feb 1997</td>\n",
       "      <td>Bus Passengers</td>\n",
       "      <td>399</td>\n",
       "      <td>49.000</td>\n",
       "      <td>-118.224</td>\n",
       "      <td>POINT (-118.223777 49.000083)</td>\n",
       "    </tr>\n",
       "    <tr>\n",
       "      <th>301270</th>\n",
       "      <td>Point Roberts</td>\n",
       "      <td>Washington</td>\n",
       "      <td>3017</td>\n",
       "      <td>US-Canada Border</td>\n",
       "      <td>Aug 2003</td>\n",
       "      <td>Train Passengers</td>\n",
       "      <td>0</td>\n",
       "      <td>49.002</td>\n",
       "      <td>-123.068</td>\n",
       "      <td>POINT (-123.068055556 49.0020555547)</td>\n",
       "    </tr>\n",
       "    <tr>\n",
       "      <th>79807</th>\n",
       "      <td>Sherwood</td>\n",
       "      <td>North Dakota</td>\n",
       "      <td>3414</td>\n",
       "      <td>US-Canada Border</td>\n",
       "      <td>Sep 2015</td>\n",
       "      <td>Personal Vehicles</td>\n",
       "      <td>1496</td>\n",
       "      <td>48.999</td>\n",
       "      <td>-101.628</td>\n",
       "      <td>POINT (-101.627527 48.999305)</td>\n",
       "    </tr>\n",
       "    <tr>\n",
       "      <th>313098</th>\n",
       "      <td>Sasabe</td>\n",
       "      <td>Arizona</td>\n",
       "      <td>2606</td>\n",
       "      <td>US-Mexico Border</td>\n",
       "      <td>Jul 2001</td>\n",
       "      <td>Trucks</td>\n",
       "      <td>135</td>\n",
       "      <td>31.483</td>\n",
       "      <td>-111.544</td>\n",
       "      <td>POINT (-111.544363 31.483039)</td>\n",
       "    </tr>\n",
       "  </tbody>\n",
       "</table>\n",
       "</div>"
      ],
      "text/plain": [
       "                  Port Name         State  Port Code            Border  \\\n",
       "335449             Baudette     Minnesota       3424  US-Canada Border   \n",
       "253031               Turner       Montana       3306  US-Canada Border   \n",
       "188369               Laredo         Texas       2304  US-Mexico Border   \n",
       "9525    International Falls     Minnesota       3604  US-Canada Border   \n",
       "96092              Richford       Vermont        203  US-Canada Border   \n",
       "85146              Whitlash       Montana       3321  US-Canada Border   \n",
       "368959              Laurier    Washington       3016  US-Canada Border   \n",
       "301270        Point Roberts    Washington       3017  US-Canada Border   \n",
       "79807              Sherwood  North Dakota       3414  US-Canada Border   \n",
       "313098               Sasabe       Arizona       2606  US-Mexico Border   \n",
       "\n",
       "            Date                      Measure  Value  Latitude  Longitude  \\\n",
       "335449  Oct 1998                       Trucks    412    48.719    -94.590   \n",
       "253031  Jun 2005                       Trucks     20    49.000   -108.388   \n",
       "188369  Apr 2009       Rail Containers Loaded  10065    27.500    -99.507   \n",
       "9525    Dec 2021  Personal Vehicle Passengers   6152    48.608    -93.401   \n",
       "96092   Apr 2014  Personal Vehicle Passengers  17124    45.012    -72.589   \n",
       "85146   May 2015  Personal Vehicle Passengers    107    48.997   -111.258   \n",
       "368959  Feb 1997               Bus Passengers    399    49.000   -118.224   \n",
       "301270  Aug 2003             Train Passengers      0    49.002   -123.068   \n",
       "79807   Sep 2015            Personal Vehicles   1496    48.999   -101.628   \n",
       "313098  Jul 2001                       Trucks    135    31.483   -111.544   \n",
       "\n",
       "                                       Point  \n",
       "335449          POINT (-94.590467 48.719109)  \n",
       "253031         POINT (-108.387916 48.999527)  \n",
       "188369          POINT (-99.507412 27.499561)  \n",
       "9525              POINT (-93.401355 48.6078)  \n",
       "96092            POINT (-72.588559 45.01174)  \n",
       "85146           POINT (-111.257916 48.99725)  \n",
       "368959         POINT (-118.223777 49.000083)  \n",
       "301270  POINT (-123.068055556 49.0020555547)  \n",
       "79807          POINT (-101.627527 48.999305)  \n",
       "313098         POINT (-111.544363 31.483039)  "
      ]
     },
     "execution_count": 4,
     "metadata": {},
     "output_type": "execute_result"
    }
   ],
   "source": [
    "df.sample(10)"
   ]
  },
  {
   "cell_type": "code",
   "execution_count": 5,
   "metadata": {
    "ExecuteTime": {
     "end_time": "2024-04-30T22:00:10.182652Z",
     "start_time": "2024-04-30T22:00:10.176009Z"
    }
   },
   "outputs": [
    {
     "data": {
      "text/plain": [
       "(390305, 10)"
      ]
     },
     "execution_count": 5,
     "metadata": {},
     "output_type": "execute_result"
    }
   ],
   "source": [
    "df.shape"
   ]
  },
  {
   "cell_type": "code",
   "execution_count": 6,
   "metadata": {
    "ExecuteTime": {
     "end_time": "2024-04-30T22:00:10.510599Z",
     "start_time": "2024-04-30T22:00:10.423157Z"
    }
   },
   "outputs": [
    {
     "name": "stdout",
     "output_type": "stream",
     "text": [
      "<class 'pandas.core.frame.DataFrame'>\n",
      "RangeIndex: 390305 entries, 0 to 390304\n",
      "Data columns (total 10 columns):\n",
      " #   Column     Non-Null Count   Dtype  \n",
      "---  ------     --------------   -----  \n",
      " 0   Port Name  390305 non-null  object \n",
      " 1   State      390305 non-null  object \n",
      " 2   Port Code  390305 non-null  int64  \n",
      " 3   Border     390305 non-null  object \n",
      " 4   Date       390305 non-null  object \n",
      " 5   Measure    390305 non-null  object \n",
      " 6   Value      390305 non-null  int64  \n",
      " 7   Latitude   390305 non-null  float64\n",
      " 8   Longitude  390305 non-null  float64\n",
      " 9   Point      390305 non-null  object \n",
      "dtypes: float64(2), int64(2), object(6)\n",
      "memory usage: 29.8+ MB\n"
     ]
    }
   ],
   "source": [
    "df.info()"
   ]
  },
  {
   "cell_type": "code",
   "execution_count": 7,
   "metadata": {
    "ExecuteTime": {
     "end_time": "2024-04-30T22:00:12.211574Z",
     "start_time": "2024-04-30T22:00:12.126783Z"
    }
   },
   "outputs": [
    {
     "data": {
      "text/html": [
       "<div>\n",
       "<style scoped>\n",
       "    .dataframe tbody tr th:only-of-type {\n",
       "        vertical-align: middle;\n",
       "    }\n",
       "\n",
       "    .dataframe tbody tr th {\n",
       "        vertical-align: top;\n",
       "    }\n",
       "\n",
       "    .dataframe thead th {\n",
       "        text-align: right;\n",
       "    }\n",
       "</style>\n",
       "<table border=\"1\" class=\"dataframe\">\n",
       "  <thead>\n",
       "    <tr style=\"text-align: right;\">\n",
       "      <th></th>\n",
       "      <th>Port Code</th>\n",
       "      <th>Value</th>\n",
       "      <th>Latitude</th>\n",
       "      <th>Longitude</th>\n",
       "    </tr>\n",
       "  </thead>\n",
       "  <tbody>\n",
       "    <tr>\n",
       "      <th>count</th>\n",
       "      <td>390305.000000</td>\n",
       "      <td>3.903050e+05</td>\n",
       "      <td>390305.000000</td>\n",
       "      <td>390305.000000</td>\n",
       "    </tr>\n",
       "    <tr>\n",
       "      <th>mean</th>\n",
       "      <td>2447.417522</td>\n",
       "      <td>2.868126e+04</td>\n",
       "      <td>43.982557</td>\n",
       "      <td>-99.745781</td>\n",
       "    </tr>\n",
       "    <tr>\n",
       "      <th>std</th>\n",
       "      <td>1203.813604</td>\n",
       "      <td>1.496351e+05</td>\n",
       "      <td>8.149411</td>\n",
       "      <td>18.255523</td>\n",
       "    </tr>\n",
       "    <tr>\n",
       "      <th>min</th>\n",
       "      <td>101.000000</td>\n",
       "      <td>0.000000e+00</td>\n",
       "      <td>25.952000</td>\n",
       "      <td>-141.001000</td>\n",
       "    </tr>\n",
       "    <tr>\n",
       "      <th>25%</th>\n",
       "      <td>2304.000000</td>\n",
       "      <td>0.000000e+00</td>\n",
       "      <td>42.999000</td>\n",
       "      <td>-114.728000</td>\n",
       "    </tr>\n",
       "    <tr>\n",
       "      <th>50%</th>\n",
       "      <td>3012.000000</td>\n",
       "      <td>1.370000e+02</td>\n",
       "      <td>48.496000</td>\n",
       "      <td>-101.628000</td>\n",
       "    </tr>\n",
       "    <tr>\n",
       "      <th>75%</th>\n",
       "      <td>3401.000000</td>\n",
       "      <td>2.912000e+03</td>\n",
       "      <td>49.000000</td>\n",
       "      <td>-89.585000</td>\n",
       "    </tr>\n",
       "    <tr>\n",
       "      <th>max</th>\n",
       "      <td>3814.000000</td>\n",
       "      <td>4.447374e+06</td>\n",
       "      <td>62.615000</td>\n",
       "      <td>-66.980000</td>\n",
       "    </tr>\n",
       "  </tbody>\n",
       "</table>\n",
       "</div>"
      ],
      "text/plain": [
       "           Port Code         Value       Latitude      Longitude\n",
       "count  390305.000000  3.903050e+05  390305.000000  390305.000000\n",
       "mean     2447.417522  2.868126e+04      43.982557     -99.745781\n",
       "std      1203.813604  1.496351e+05       8.149411      18.255523\n",
       "min       101.000000  0.000000e+00      25.952000    -141.001000\n",
       "25%      2304.000000  0.000000e+00      42.999000    -114.728000\n",
       "50%      3012.000000  1.370000e+02      48.496000    -101.628000\n",
       "75%      3401.000000  2.912000e+03      49.000000     -89.585000\n",
       "max      3814.000000  4.447374e+06      62.615000     -66.980000"
      ]
     },
     "execution_count": 7,
     "metadata": {},
     "output_type": "execute_result"
    }
   ],
   "source": [
    "df.describe()"
   ]
  },
  {
   "cell_type": "code",
   "execution_count": 8,
   "metadata": {
    "ExecuteTime": {
     "end_time": "2024-04-30T22:00:12.507516Z",
     "start_time": "2024-04-30T22:00:12.493635Z"
    }
   },
   "outputs": [
    {
     "data": {
      "text/html": [
       "<div>\n",
       "<style scoped>\n",
       "    .dataframe tbody tr th:only-of-type {\n",
       "        vertical-align: middle;\n",
       "    }\n",
       "\n",
       "    .dataframe tbody tr th {\n",
       "        vertical-align: top;\n",
       "    }\n",
       "\n",
       "    .dataframe thead th {\n",
       "        text-align: right;\n",
       "    }\n",
       "</style>\n",
       "<table border=\"1\" class=\"dataframe\">\n",
       "  <thead>\n",
       "    <tr style=\"text-align: right;\">\n",
       "      <th></th>\n",
       "      <th>Latitude</th>\n",
       "      <th>Longitude</th>\n",
       "    </tr>\n",
       "  </thead>\n",
       "  <tbody>\n",
       "    <tr>\n",
       "      <th>0</th>\n",
       "      <td>26.404</td>\n",
       "      <td>-99.019</td>\n",
       "    </tr>\n",
       "    <tr>\n",
       "      <th>1</th>\n",
       "      <td>29.327</td>\n",
       "      <td>-100.928</td>\n",
       "    </tr>\n",
       "    <tr>\n",
       "      <th>2</th>\n",
       "      <td>49.000</td>\n",
       "      <td>-109.731</td>\n",
       "    </tr>\n",
       "    <tr>\n",
       "      <th>3</th>\n",
       "      <td>48.997</td>\n",
       "      <td>-111.258</td>\n",
       "    </tr>\n",
       "    <tr>\n",
       "      <th>4</th>\n",
       "      <td>31.673</td>\n",
       "      <td>-106.335</td>\n",
       "    </tr>\n",
       "    <tr>\n",
       "      <th>...</th>\n",
       "      <td>...</td>\n",
       "      <td>...</td>\n",
       "    </tr>\n",
       "    <tr>\n",
       "      <th>390300</th>\n",
       "      <td>43.659</td>\n",
       "      <td>-70.243</td>\n",
       "    </tr>\n",
       "    <tr>\n",
       "      <th>390301</th>\n",
       "      <td>44.992</td>\n",
       "      <td>-74.308</td>\n",
       "    </tr>\n",
       "    <tr>\n",
       "      <th>390302</th>\n",
       "      <td>48.999</td>\n",
       "      <td>-104.574</td>\n",
       "    </tr>\n",
       "    <tr>\n",
       "      <th>390303</th>\n",
       "      <td>49.000</td>\n",
       "      <td>-101.017</td>\n",
       "    </tr>\n",
       "    <tr>\n",
       "      <th>390304</th>\n",
       "      <td>49.001</td>\n",
       "      <td>-117.628</td>\n",
       "    </tr>\n",
       "  </tbody>\n",
       "</table>\n",
       "<p>390305 rows × 2 columns</p>\n",
       "</div>"
      ],
      "text/plain": [
       "        Latitude  Longitude\n",
       "0         26.404    -99.019\n",
       "1         29.327   -100.928\n",
       "2         49.000   -109.731\n",
       "3         48.997   -111.258\n",
       "4         31.673   -106.335\n",
       "...          ...        ...\n",
       "390300    43.659    -70.243\n",
       "390301    44.992    -74.308\n",
       "390302    48.999   -104.574\n",
       "390303    49.000   -101.017\n",
       "390304    49.001   -117.628\n",
       "\n",
       "[390305 rows x 2 columns]"
      ]
     },
     "execution_count": 8,
     "metadata": {},
     "output_type": "execute_result"
    }
   ],
   "source": [
    "df_markers = df[['Latitude','Longitude']]\n",
    "df_markers"
   ]
  },
  {
   "cell_type": "code",
   "execution_count": 10,
   "metadata": {
    "ExecuteTime": {
     "end_time": "2024-04-30T22:00:21.824610Z",
     "start_time": "2024-04-30T22:00:20.936106Z"
    }
   },
   "outputs": [
    {
     "data": {
      "application/vnd.jupyter.widget-view+json": {
       "model_id": "02882ff0cec6440685b8ef3c3005d3ba",
       "version_major": 2,
       "version_minor": 0
      },
      "text/plain": [
       "Figure(layout=FigureLayout(height='420px'))"
      ]
     },
     "execution_count": 10,
     "metadata": {},
     "output_type": "execute_result"
    }
   ],
   "source": [
    "fig = gmaps.figure(center=(37.0902, -95.7129), zoom_level=4)\n",
    "\n",
    "# Add Heatmap layer\n",
    "heatmap_layer = gmaps.heatmap_layer(df_markers)\n",
    "fig.add_layer(heatmap_layer)\n",
    "\n",
    "fig"
   ]
  },
  {
   "cell_type": "code",
   "execution_count": 11,
   "metadata": {
    "ExecuteTime": {
     "end_time": "2024-04-30T22:03:23.030481Z",
     "start_time": "2024-04-30T22:03:22.998694Z"
    }
   },
   "outputs": [
    {
     "data": {
      "application/vnd.jupyter.widget-view+json": {
       "model_id": "6363e30754844ed58c3dd2788dfe6523",
       "version_major": 2,
       "version_minor": 0
      },
      "text/plain": [
       "Figure(layout=FigureLayout(height='420px'))"
      ]
     },
     "execution_count": 11,
     "metadata": {},
     "output_type": "execute_result"
    }
   ],
   "source": [
    "gmaps.figure(center=(37.0902, -95.7129), zoom_level=4)"
   ]
  },
  {
   "cell_type": "code",
   "execution_count": 14,
   "metadata": {},
   "outputs": [
    {
     "data": {
      "text/plain": [
       "<Figure size 640x480 with 0 Axes>"
      ]
     },
     "metadata": {},
     "output_type": "display_data"
    }
   ],
   "source": []
  },
  {
   "cell_type": "code",
   "execution_count": null,
   "metadata": {},
   "outputs": [],
   "source": []
  },
  {
   "cell_type": "code",
   "execution_count": null,
   "metadata": {},
   "outputs": [],
   "source": []
  }
 ],
 "metadata": {
  "kernelspec": {
   "display_name": "Python 3 (ipykernel)",
   "language": "python",
   "name": "python3"
  },
  "language_info": {
   "codemirror_mode": {
    "name": "ipython",
    "version": 3
   },
   "file_extension": ".py",
   "mimetype": "text/x-python",
   "name": "python",
   "nbconvert_exporter": "python",
   "pygments_lexer": "ipython3",
   "version": "3.10.12"
  },
  "toc": {
   "base_numbering": 1,
   "nav_menu": {},
   "number_sections": true,
   "sideBar": true,
   "skip_h1_title": false,
   "title_cell": "Table of Contents",
   "title_sidebar": "Contents",
   "toc_cell": false,
   "toc_position": {},
   "toc_section_display": true,
   "toc_window_display": true
  },
  "varInspector": {
   "cols": {
    "lenName": 16,
    "lenType": 16,
    "lenVar": 40
   },
   "kernels_config": {
    "python": {
     "delete_cmd_postfix": "",
     "delete_cmd_prefix": "del ",
     "library": "var_list.py",
     "varRefreshCmd": "print(var_dic_list())"
    },
    "r": {
     "delete_cmd_postfix": ") ",
     "delete_cmd_prefix": "rm(",
     "library": "var_list.r",
     "varRefreshCmd": "cat(var_dic_list()) "
    }
   },
   "types_to_exclude": [
    "module",
    "function",
    "builtin_function_or_method",
    "instance",
    "_Feature"
   ],
   "window_display": false
  }
 },
 "nbformat": 4,
 "nbformat_minor": 2
}
