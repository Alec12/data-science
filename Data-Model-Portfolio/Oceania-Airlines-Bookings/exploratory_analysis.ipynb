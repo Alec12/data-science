{
 "cells": [
  {
   "cell_type": "markdown",
   "metadata": {},
   "source": [
    "# Import"
   ]
  },
  {
   "cell_type": "markdown",
   "metadata": {},
   "source": [
    "## Libraries"
   ]
  },
  {
   "cell_type": "code",
   "execution_count": 79,
   "metadata": {},
   "outputs": [],
   "source": [
    "import pandas as pd\n",
    "import numpy as np\n",
    "import matplotlib.pyplot as plt\n",
    "import seaborn as sns\n",
    "\n",
    "import scipy.stats as stats"
   ]
  },
  {
   "cell_type": "markdown",
   "metadata": {},
   "source": [
    "## Dataset"
   ]
  },
  {
   "cell_type": "code",
   "execution_count": 64,
   "metadata": {},
   "outputs": [],
   "source": [
    "df = pd.read_csv(r'customer_booking.csv', encoding='latin-1')"
   ]
  },
  {
   "cell_type": "markdown",
   "metadata": {},
   "source": [
    "# Explore Dataset"
   ]
  },
  {
   "cell_type": "code",
   "execution_count": 4,
   "metadata": {},
   "outputs": [
    {
     "data": {
      "text/html": [
       "<div>\n",
       "<style scoped>\n",
       "    .dataframe tbody tr th:only-of-type {\n",
       "        vertical-align: middle;\n",
       "    }\n",
       "\n",
       "    .dataframe tbody tr th {\n",
       "        vertical-align: top;\n",
       "    }\n",
       "\n",
       "    .dataframe thead th {\n",
       "        text-align: right;\n",
       "    }\n",
       "</style>\n",
       "<table border=\"1\" class=\"dataframe\">\n",
       "  <thead>\n",
       "    <tr style=\"text-align: right;\">\n",
       "      <th></th>\n",
       "      <th>num_passengers</th>\n",
       "      <th>sales_channel</th>\n",
       "      <th>trip_type</th>\n",
       "      <th>purchase_lead</th>\n",
       "      <th>length_of_stay</th>\n",
       "      <th>flight_hour</th>\n",
       "      <th>flight_day</th>\n",
       "      <th>route</th>\n",
       "      <th>booking_origin</th>\n",
       "      <th>wants_extra_baggage</th>\n",
       "      <th>wants_preferred_seat</th>\n",
       "      <th>wants_in_flight_meals</th>\n",
       "      <th>flight_duration</th>\n",
       "      <th>booking_complete</th>\n",
       "    </tr>\n",
       "  </thead>\n",
       "  <tbody>\n",
       "    <tr>\n",
       "      <th>0</th>\n",
       "      <td>2</td>\n",
       "      <td>Internet</td>\n",
       "      <td>RoundTrip</td>\n",
       "      <td>262</td>\n",
       "      <td>19</td>\n",
       "      <td>7</td>\n",
       "      <td>Sat</td>\n",
       "      <td>AKLDEL</td>\n",
       "      <td>New Zealand</td>\n",
       "      <td>1</td>\n",
       "      <td>0</td>\n",
       "      <td>0</td>\n",
       "      <td>5.52</td>\n",
       "      <td>0</td>\n",
       "    </tr>\n",
       "    <tr>\n",
       "      <th>1</th>\n",
       "      <td>1</td>\n",
       "      <td>Internet</td>\n",
       "      <td>RoundTrip</td>\n",
       "      <td>112</td>\n",
       "      <td>20</td>\n",
       "      <td>3</td>\n",
       "      <td>Sat</td>\n",
       "      <td>AKLDEL</td>\n",
       "      <td>New Zealand</td>\n",
       "      <td>0</td>\n",
       "      <td>0</td>\n",
       "      <td>0</td>\n",
       "      <td>5.52</td>\n",
       "      <td>0</td>\n",
       "    </tr>\n",
       "    <tr>\n",
       "      <th>2</th>\n",
       "      <td>2</td>\n",
       "      <td>Internet</td>\n",
       "      <td>RoundTrip</td>\n",
       "      <td>243</td>\n",
       "      <td>22</td>\n",
       "      <td>17</td>\n",
       "      <td>Wed</td>\n",
       "      <td>AKLDEL</td>\n",
       "      <td>India</td>\n",
       "      <td>1</td>\n",
       "      <td>1</td>\n",
       "      <td>0</td>\n",
       "      <td>5.52</td>\n",
       "      <td>0</td>\n",
       "    </tr>\n",
       "    <tr>\n",
       "      <th>3</th>\n",
       "      <td>1</td>\n",
       "      <td>Internet</td>\n",
       "      <td>RoundTrip</td>\n",
       "      <td>96</td>\n",
       "      <td>31</td>\n",
       "      <td>4</td>\n",
       "      <td>Sat</td>\n",
       "      <td>AKLDEL</td>\n",
       "      <td>New Zealand</td>\n",
       "      <td>0</td>\n",
       "      <td>0</td>\n",
       "      <td>1</td>\n",
       "      <td>5.52</td>\n",
       "      <td>0</td>\n",
       "    </tr>\n",
       "    <tr>\n",
       "      <th>4</th>\n",
       "      <td>2</td>\n",
       "      <td>Internet</td>\n",
       "      <td>RoundTrip</td>\n",
       "      <td>68</td>\n",
       "      <td>22</td>\n",
       "      <td>15</td>\n",
       "      <td>Wed</td>\n",
       "      <td>AKLDEL</td>\n",
       "      <td>India</td>\n",
       "      <td>1</td>\n",
       "      <td>0</td>\n",
       "      <td>1</td>\n",
       "      <td>5.52</td>\n",
       "      <td>0</td>\n",
       "    </tr>\n",
       "  </tbody>\n",
       "</table>\n",
       "</div>"
      ],
      "text/plain": [
       "   num_passengers sales_channel  trip_type  purchase_lead  length_of_stay  \\\n",
       "0               2      Internet  RoundTrip            262              19   \n",
       "1               1      Internet  RoundTrip            112              20   \n",
       "2               2      Internet  RoundTrip            243              22   \n",
       "3               1      Internet  RoundTrip             96              31   \n",
       "4               2      Internet  RoundTrip             68              22   \n",
       "\n",
       "   flight_hour flight_day   route booking_origin  wants_extra_baggage  \\\n",
       "0            7        Sat  AKLDEL    New Zealand                    1   \n",
       "1            3        Sat  AKLDEL    New Zealand                    0   \n",
       "2           17        Wed  AKLDEL          India                    1   \n",
       "3            4        Sat  AKLDEL    New Zealand                    0   \n",
       "4           15        Wed  AKLDEL          India                    1   \n",
       "\n",
       "   wants_preferred_seat  wants_in_flight_meals  flight_duration  \\\n",
       "0                     0                      0             5.52   \n",
       "1                     0                      0             5.52   \n",
       "2                     1                      0             5.52   \n",
       "3                     0                      1             5.52   \n",
       "4                     0                      1             5.52   \n",
       "\n",
       "   booking_complete  \n",
       "0                 0  \n",
       "1                 0  \n",
       "2                 0  \n",
       "3                 0  \n",
       "4                 0  "
      ]
     },
     "execution_count": 4,
     "metadata": {},
     "output_type": "execute_result"
    }
   ],
   "source": [
    "df.head()"
   ]
  },
  {
   "cell_type": "code",
   "execution_count": 5,
   "metadata": {},
   "outputs": [
    {
     "name": "stdout",
     "output_type": "stream",
     "text": [
      "wants_extra_baggage\n",
      "1    33439\n",
      "0    16561\n",
      "Name: count, dtype: int64\n",
      "route\n",
      "AKLKUL    2680\n",
      "PENTPE     924\n",
      "MELSGN     842\n",
      "ICNSIN     801\n",
      "DMKKIX     744\n",
      "          ... \n",
      "LBUTPE       1\n",
      "CXRMEL       1\n",
      "DELKBR       1\n",
      "KOSSYD       1\n",
      "MRUXIY       1\n",
      "Name: count, Length: 799, dtype: int64\n"
     ]
    }
   ],
   "source": [
    "print(df.wants_extra_baggage.value_counts())\n",
    "print(df.route.value_counts())"
   ]
  },
  {
   "cell_type": "code",
   "execution_count": 6,
   "metadata": {},
   "outputs": [
    {
     "data": {
      "text/plain": [
       "count     799.000000\n",
       "mean       62.578223\n",
       "std       146.462227\n",
       "min         1.000000\n",
       "25%         5.000000\n",
       "50%        18.000000\n",
       "75%        56.500000\n",
       "max      2680.000000\n",
       "Name: count, dtype: float64"
      ]
     },
     "execution_count": 6,
     "metadata": {},
     "output_type": "execute_result"
    }
   ],
   "source": [
    "df.route.value_counts().describe()"
   ]
  },
  {
   "cell_type": "code",
   "execution_count": 7,
   "metadata": {},
   "outputs": [
    {
     "name": "stdout",
     "output_type": "stream",
     "text": [
      "route\n",
      "AKLKUL    2680\n",
      "PENTPE     924\n",
      "MELSGN     842\n",
      "ICNSIN     801\n",
      "DMKKIX     744\n",
      "          ... \n",
      "HKGMEL     106\n",
      "ICNKCH     106\n",
      "PEKSYD     103\n",
      "PEKSIN     102\n",
      "CNXPER     101\n",
      "Name: count, Length: 122, dtype: int64\n",
      "route\n",
      "AKLKUL    2680\n",
      "PENTPE     924\n",
      "MELSGN     842\n",
      "ICNSIN     801\n",
      "DMKKIX     744\n",
      "          ... \n",
      "HKGMEL     106\n",
      "ICNKCH     106\n",
      "PEKSYD     103\n",
      "PEKSIN     102\n",
      "CNXPER     101\n",
      "Name: count, Length: 122, dtype: int64\n"
     ]
    }
   ],
   "source": [
    "route_counts = df['route'].value_counts()\n",
    "routes_over_x = route_counts[route_counts > 100]\n",
    "print(routes_over_x)\n",
    "\n",
    "print(routes_over_x)"
   ]
  },
  {
   "cell_type": "markdown",
   "metadata": {},
   "source": [
    "## Summarize Baggage and Flight Duration"
   ]
  },
  {
   "cell_type": "code",
   "execution_count": 31,
   "metadata": {},
   "outputs": [
    {
     "data": {
      "text/html": [
       "<div>\n",
       "<style scoped>\n",
       "    .dataframe tbody tr th:only-of-type {\n",
       "        vertical-align: middle;\n",
       "    }\n",
       "\n",
       "    .dataframe tbody tr th {\n",
       "        vertical-align: top;\n",
       "    }\n",
       "\n",
       "    .dataframe thead th {\n",
       "        text-align: right;\n",
       "    }\n",
       "</style>\n",
       "<table border=\"1\" class=\"dataframe\">\n",
       "  <thead>\n",
       "    <tr style=\"text-align: right;\">\n",
       "      <th></th>\n",
       "      <th>route</th>\n",
       "      <th>%_passengers_with_baggage</th>\n",
       "      <th>total_passengers</th>\n",
       "      <th>avg_flight_duration</th>\n",
       "    </tr>\n",
       "  </thead>\n",
       "  <tbody>\n",
       "    <tr>\n",
       "      <th>6</th>\n",
       "      <td>AKLKUL</td>\n",
       "      <td>70.719101</td>\n",
       "      <td>4450</td>\n",
       "      <td>8.83</td>\n",
       "    </tr>\n",
       "    <tr>\n",
       "      <th>717</th>\n",
       "      <td>PENTPE</td>\n",
       "      <td>73.307791</td>\n",
       "      <td>1566</td>\n",
       "      <td>4.67</td>\n",
       "    </tr>\n",
       "    <tr>\n",
       "      <th>287</th>\n",
       "      <td>DMKKIX</td>\n",
       "      <td>77.100840</td>\n",
       "      <td>1428</td>\n",
       "      <td>7.00</td>\n",
       "    </tr>\n",
       "    <tr>\n",
       "      <th>436</th>\n",
       "      <td>ICNSIN</td>\n",
       "      <td>62.696629</td>\n",
       "      <td>1335</td>\n",
       "      <td>6.62</td>\n",
       "    </tr>\n",
       "    <tr>\n",
       "      <th>633</th>\n",
       "      <td>MELSGN</td>\n",
       "      <td>81.626016</td>\n",
       "      <td>1230</td>\n",
       "      <td>8.83</td>\n",
       "    </tr>\n",
       "    <tr>\n",
       "      <th>...</th>\n",
       "      <td>...</td>\n",
       "      <td>...</td>\n",
       "      <td>...</td>\n",
       "      <td>...</td>\n",
       "    </tr>\n",
       "    <tr>\n",
       "      <th>660</th>\n",
       "      <td>MNLSYD</td>\n",
       "      <td>64.423077</td>\n",
       "      <td>104</td>\n",
       "      <td>8.58</td>\n",
       "    </tr>\n",
       "    <tr>\n",
       "      <th>111</th>\n",
       "      <td>CGKPER</td>\n",
       "      <td>66.346154</td>\n",
       "      <td>104</td>\n",
       "      <td>5.62</td>\n",
       "    </tr>\n",
       "    <tr>\n",
       "      <th>93</th>\n",
       "      <td>CEBOOL</td>\n",
       "      <td>71.844660</td>\n",
       "      <td>103</td>\n",
       "      <td>8.83</td>\n",
       "    </tr>\n",
       "    <tr>\n",
       "      <th>521</th>\n",
       "      <td>KCHPVG</td>\n",
       "      <td>87.254902</td>\n",
       "      <td>102</td>\n",
       "      <td>5.33</td>\n",
       "    </tr>\n",
       "    <tr>\n",
       "      <th>475</th>\n",
       "      <td>JHBPUS</td>\n",
       "      <td>71.287129</td>\n",
       "      <td>101</td>\n",
       "      <td>6.33</td>\n",
       "    </tr>\n",
       "  </tbody>\n",
       "</table>\n",
       "<p>187 rows × 4 columns</p>\n",
       "</div>"
      ],
      "text/plain": [
       "      route  %_passengers_with_baggage  total_passengers  avg_flight_duration\n",
       "6    AKLKUL                  70.719101              4450                 8.83\n",
       "717  PENTPE                  73.307791              1566                 4.67\n",
       "287  DMKKIX                  77.100840              1428                 7.00\n",
       "436  ICNSIN                  62.696629              1335                 6.62\n",
       "633  MELSGN                  81.626016              1230                 8.83\n",
       "..      ...                        ...               ...                  ...\n",
       "660  MNLSYD                  64.423077               104                 8.58\n",
       "111  CGKPER                  66.346154               104                 5.62\n",
       "93   CEBOOL                  71.844660               103                 8.83\n",
       "521  KCHPVG                  87.254902               102                 5.33\n",
       "475  JHBPUS                  71.287129               101                 6.33\n",
       "\n",
       "[187 rows x 4 columns]"
      ]
     },
     "execution_count": 31,
     "metadata": {},
     "output_type": "execute_result"
    }
   ],
   "source": [
    "# Count the total number of passengers for each route\n",
    "route_passenger_counts = df.groupby('route')['num_passengers'].sum()\n",
    "\n",
    "# Count the number of passengers who wanted extra baggage for each route\n",
    "route_extra_baggage_counts = df[df['wants_extra_baggage'] == True].groupby('route')['num_passengers'].sum()\n",
    "\n",
    "# Calculate the percentage of passengers who wanted extra baggage for each route\n",
    "route_extra_baggage_percentages = (route_extra_baggage_counts / route_passenger_counts) * 100\n",
    "route_avg_flight_duration = df.groupby('route')['flight_duration'].mean()\n",
    "\n",
    "# Create a DataFrame with route, percentage of passengers with baggage, and total number of passengers\n",
    "result_df = pd.DataFrame({\n",
    "    'route': route_passenger_counts.index,\n",
    "    '%_passengers_with_baggage': route_extra_baggage_percentages.values,\n",
    "    'total_passengers': route_passenger_counts.values,\n",
    "    'avg_flight_duration': route_avg_flight_duration.values\n",
    "})\n",
    "\n",
    "result_df = result_df[result_df['total_passengers']>100].sort_values(by='total_passengers',ascending=False)\n",
    "result_df"
   ]
  },
  {
   "cell_type": "code",
   "execution_count": 32,
   "metadata": {},
   "outputs": [
    {
     "data": {
      "text/html": [
       "<div>\n",
       "<style scoped>\n",
       "    .dataframe tbody tr th:only-of-type {\n",
       "        vertical-align: middle;\n",
       "    }\n",
       "\n",
       "    .dataframe tbody tr th {\n",
       "        vertical-align: top;\n",
       "    }\n",
       "\n",
       "    .dataframe thead th {\n",
       "        text-align: right;\n",
       "    }\n",
       "</style>\n",
       "<table border=\"1\" class=\"dataframe\">\n",
       "  <thead>\n",
       "    <tr style=\"text-align: right;\">\n",
       "      <th></th>\n",
       "      <th>%_passengers_with_baggage</th>\n",
       "      <th>total_passengers</th>\n",
       "      <th>avg_flight_duration</th>\n",
       "    </tr>\n",
       "  </thead>\n",
       "  <tbody>\n",
       "    <tr>\n",
       "      <th>count</th>\n",
       "      <td>187.000000</td>\n",
       "      <td>187.000000</td>\n",
       "      <td>187.000000</td>\n",
       "    </tr>\n",
       "    <tr>\n",
       "      <th>mean</th>\n",
       "      <td>70.989369</td>\n",
       "      <td>340.422460</td>\n",
       "      <td>7.170909</td>\n",
       "    </tr>\n",
       "    <tr>\n",
       "      <th>std</th>\n",
       "      <td>10.857942</td>\n",
       "      <td>405.369058</td>\n",
       "      <td>1.479199</td>\n",
       "    </tr>\n",
       "    <tr>\n",
       "      <th>min</th>\n",
       "      <td>39.869281</td>\n",
       "      <td>101.000000</td>\n",
       "      <td>4.670000</td>\n",
       "    </tr>\n",
       "    <tr>\n",
       "      <th>25%</th>\n",
       "      <td>64.009879</td>\n",
       "      <td>141.000000</td>\n",
       "      <td>5.620000</td>\n",
       "    </tr>\n",
       "    <tr>\n",
       "      <th>50%</th>\n",
       "      <td>71.764706</td>\n",
       "      <td>215.000000</td>\n",
       "      <td>7.000000</td>\n",
       "    </tr>\n",
       "    <tr>\n",
       "      <th>75%</th>\n",
       "      <td>78.768104</td>\n",
       "      <td>397.000000</td>\n",
       "      <td>8.750000</td>\n",
       "    </tr>\n",
       "    <tr>\n",
       "      <th>max</th>\n",
       "      <td>96.330275</td>\n",
       "      <td>4450.000000</td>\n",
       "      <td>8.830000</td>\n",
       "    </tr>\n",
       "  </tbody>\n",
       "</table>\n",
       "</div>"
      ],
      "text/plain": [
       "       %_passengers_with_baggage  total_passengers  avg_flight_duration\n",
       "count                 187.000000        187.000000           187.000000\n",
       "mean                   70.989369        340.422460             7.170909\n",
       "std                    10.857942        405.369058             1.479199\n",
       "min                    39.869281        101.000000             4.670000\n",
       "25%                    64.009879        141.000000             5.620000\n",
       "50%                    71.764706        215.000000             7.000000\n",
       "75%                    78.768104        397.000000             8.750000\n",
       "max                    96.330275       4450.000000             8.830000"
      ]
     },
     "execution_count": 32,
     "metadata": {},
     "output_type": "execute_result"
    }
   ],
   "source": [
    "result_df.describe()"
   ]
  },
  {
   "cell_type": "code",
   "execution_count": 33,
   "metadata": {},
   "outputs": [
    {
     "name": "stderr",
     "output_type": "stream",
     "text": [
      "/Users/alecnaidoo/miniforge3/envs/python310mids/lib/python3.10/site-packages/seaborn/_oldcore.py:1498: FutureWarning: is_categorical_dtype is deprecated and will be removed in a future version. Use isinstance(dtype, CategoricalDtype) instead\n",
      "  if pd.api.types.is_categorical_dtype(vector):\n",
      "/Users/alecnaidoo/miniforge3/envs/python310mids/lib/python3.10/site-packages/seaborn/_oldcore.py:1119: FutureWarning: use_inf_as_na option is deprecated and will be removed in a future version. Convert inf values to NaN before operating instead.\n",
      "  with pd.option_context('mode.use_inf_as_na', True):\n"
     ]
    },
    {
     "data": {
      "text/plain": [
       "<Axes: xlabel='total_passengers', ylabel='Count'>"
      ]
     },
     "execution_count": 33,
     "metadata": {},
     "output_type": "execute_result"
    },
    {
     "data": {
      "image/png": "[encoded data removed]",
      "text/plain": [
       "<Figure size 640x480 with 1 Axes>"
      ]
     },
     "metadata": {},
     "output_type": "display_data"
    }
   ],
   "source": [
    "sns.histplot(result_df['total_passengers'])"
   ]
  },
  {
   "cell_type": "markdown",
   "metadata": {},
   "source": [
    "## Visualize Major Relationships"
   ]
  },
  {
   "cell_type": "markdown",
   "metadata": {},
   "source": [
    "##### Opportunity could lie for routes with:\n",
    "- higher than average passenger counts\n",
    "- lower than average passengers that purchase baggage (%)"
   ]
  },
  {
   "cell_type": "code",
   "execution_count": 84,
   "metadata": {},
   "outputs": [
    {
     "name": "stderr",
     "output_type": "stream",
     "text": [
      "/Users/alecnaidoo/miniforge3/envs/python310mids/lib/python3.10/site-packages/seaborn/_oldcore.py:1498: FutureWarning: is_categorical_dtype is deprecated and will be removed in a future version. Use isinstance(dtype, CategoricalDtype) instead\n",
      "  if pd.api.types.is_categorical_dtype(vector):\n",
      "/Users/alecnaidoo/miniforge3/envs/python310mids/lib/python3.10/site-packages/seaborn/_oldcore.py:1119: FutureWarning: use_inf_as_na option is deprecated and will be removed in a future version. Convert inf values to NaN before operating instead.\n",
      "  with pd.option_context('mode.use_inf_as_na', True):\n",
      "/Users/alecnaidoo/miniforge3/envs/python310mids/lib/python3.10/site-packages/seaborn/_oldcore.py:1498: FutureWarning: is_categorical_dtype is deprecated and will be removed in a future version. Use isinstance(dtype, CategoricalDtype) instead\n",
      "  if pd.api.types.is_categorical_dtype(vector):\n",
      "/Users/alecnaidoo/miniforge3/envs/python310mids/lib/python3.10/site-packages/seaborn/_oldcore.py:1119: FutureWarning: use_inf_as_na option is deprecated and will be removed in a future version. Convert inf values to NaN before operating instead.\n",
      "  with pd.option_context('mode.use_inf_as_na', True):\n"
     ]
    },
    {
     "data": {
      "image/png": "[encoded data removed]",
      "text/plain": [
       "<Figure size 1000x1000 with 4 Axes>"
      ]
     },
     "metadata": {},
     "output_type": "display_data"
    }
   ],
   "source": [
    "# Calculate means\n",
    "mean_total_passengers = result_df['total_passengers'].mean()\n",
    "mean_percent_baggage = result_df['%_passengers_with_baggage'].mean()\n",
    "mean_flight_duration = result_df['avg_flight_duration'].mean()\n",
    "\n",
    "# Filter routes below mean_percent_baggage but above mean_total_passengers\n",
    "filtered_routes = result_df[(result_df['%_passengers_with_baggage'] < mean_percent_baggage) & \n",
    "                            (result_df['total_passengers'] > mean_total_passengers)]\n",
    "\n",
    "# Create a figure and four subplots\n",
    "fig, axs = plt.subplots(2, 2, figsize=(10, 10))\n",
    "\n",
    "# Plot first subplot (scatter plot of Total Passengers vs. % Passengers with Baggage)\n",
    "axs[0, 0].scatter(result_df['total_passengers'], result_df['%_passengers_with_baggage'], label='All Routes')\n",
    "axs[0, 0].scatter(filtered_routes['total_passengers'], filtered_routes['%_passengers_with_baggage'], color='green', label='Opportune Routes')\n",
    "axs[0, 0].set_xlabel('Total Passengers')\n",
    "axs[0, 0].set_ylabel('% Passengers with Baggage')\n",
    "axs[0, 0].axvline(x=mean_total_passengers, color='r', linestyle='--')\n",
    "axs[0, 0].axhline(y=mean_percent_baggage, color='r', linestyle='--')\n",
    "axs[0, 0].set_title('Total Passengers vs. % Passengers with Baggage')\n",
    "axs[0, 0].legend(loc='lower right')\n",
    "\n",
    "# Plot second subplot (scatter plot of % Passengers with Baggage vs. Average Flight Duration)\n",
    "axs[0, 1].scatter(result_df['%_passengers_with_baggage'], result_df['avg_flight_duration'], label='All Routes')\n",
    "axs[0, 1].scatter(filtered_routes['%_passengers_with_baggage'], filtered_routes['avg_flight_duration'], color='green', label='Opportune Routes')\n",
    "axs[0, 1].set_xlabel('% Passengers with Baggage')\n",
    "axs[0, 1].set_ylabel('Average Flight Duration')\n",
    "axs[0, 1].axvline(x=mean_percent_baggage, color='r', linestyle='--')\n",
    "axs[0, 1].axhline(y=mean_flight_duration, color='r', linestyle='--')\n",
    "axs[0, 1].set_title('% Passengers with Baggage vs. Average Flight Duration')\n",
    "axs[0, 1].legend(loc='lower right')\n",
    "\n",
    "# Plot third subplot (histogram of % Passengers with Baggage)\n",
    "sns.histplot(result_df['%_passengers_with_baggage'], ax=axs[1, 0], color='#000000', alpha=0.2)\n",
    "axs[1, 0].set_xlabel('% Passengers with Baggage')\n",
    "axs[1, 0].set_ylabel('Frequency')\n",
    "\n",
    "# Plot fourth subplot (histogram of Average Flight Duration)\n",
    "sns.histplot(result_df['avg_flight_duration'], ax=axs[1, 1], color='#000000', alpha=0.2)\n",
    "axs[1, 1].set_xlabel('Average Flight Duration')\n",
    "axs[1, 1].set_ylabel('Frequency')\n",
    "\n",
    "plt.tight_layout()\n",
    "\n",
    "# Save all subplots in the same image\n",
    "plt.savefig('combined_plots.png')\n",
    "\n",
    "plt.show()\n"
   ]
  },
  {
   "cell_type": "code",
   "execution_count": 66,
   "metadata": {},
   "outputs": [
    {
     "data": {
      "text/html": [
       "<div>\n",
       "<style scoped>\n",
       "    .dataframe tbody tr th:only-of-type {\n",
       "        vertical-align: middle;\n",
       "    }\n",
       "\n",
       "    .dataframe tbody tr th {\n",
       "        vertical-align: top;\n",
       "    }\n",
       "\n",
       "    .dataframe thead th {\n",
       "        text-align: right;\n",
       "    }\n",
       "</style>\n",
       "<table border=\"1\" class=\"dataframe\">\n",
       "  <thead>\n",
       "    <tr style=\"text-align: right;\">\n",
       "      <th></th>\n",
       "      <th>route</th>\n",
       "      <th>%_passengers_with_baggage</th>\n",
       "      <th>total_passengers</th>\n",
       "      <th>avg_flight_duration</th>\n",
       "    </tr>\n",
       "  </thead>\n",
       "  <tbody>\n",
       "    <tr>\n",
       "      <th>6</th>\n",
       "      <td>AKLKUL</td>\n",
       "      <td>70.719101</td>\n",
       "      <td>4450</td>\n",
       "      <td>8.83</td>\n",
       "    </tr>\n",
       "    <tr>\n",
       "      <th>436</th>\n",
       "      <td>ICNSIN</td>\n",
       "      <td>62.696629</td>\n",
       "      <td>1335</td>\n",
       "      <td>6.62</td>\n",
       "    </tr>\n",
       "    <tr>\n",
       "      <th>300</th>\n",
       "      <td>DPSICN</td>\n",
       "      <td>57.718121</td>\n",
       "      <td>1192</td>\n",
       "      <td>6.62</td>\n",
       "    </tr>\n",
       "    <tr>\n",
       "      <th>309</th>\n",
       "      <td>DPSPVG</td>\n",
       "      <td>64.055794</td>\n",
       "      <td>932</td>\n",
       "      <td>5.33</td>\n",
       "    </tr>\n",
       "    <tr>\n",
       "      <th>291</th>\n",
       "      <td>DMKOOL</td>\n",
       "      <td>65.714286</td>\n",
       "      <td>910</td>\n",
       "      <td>8.83</td>\n",
       "    </tr>\n",
       "    <tr>\n",
       "      <th>293</th>\n",
       "      <td>DMKPER</td>\n",
       "      <td>55.455568</td>\n",
       "      <td>889</td>\n",
       "      <td>5.62</td>\n",
       "    </tr>\n",
       "    <tr>\n",
       "      <th>368</th>\n",
       "      <td>HKTICN</td>\n",
       "      <td>58.354115</td>\n",
       "      <td>802</td>\n",
       "      <td>6.62</td>\n",
       "    </tr>\n",
       "    <tr>\n",
       "      <th>296</th>\n",
       "      <td>DMKSYD</td>\n",
       "      <td>61.465400</td>\n",
       "      <td>737</td>\n",
       "      <td>8.58</td>\n",
       "    </tr>\n",
       "    <tr>\n",
       "      <th>397</th>\n",
       "      <td>HNDPEN</td>\n",
       "      <td>68.587896</td>\n",
       "      <td>694</td>\n",
       "      <td>7.57</td>\n",
       "    </tr>\n",
       "    <tr>\n",
       "      <th>102</th>\n",
       "      <td>CGKICN</td>\n",
       "      <td>69.674556</td>\n",
       "      <td>676</td>\n",
       "      <td>6.62</td>\n",
       "    </tr>\n",
       "    <tr>\n",
       "      <th>101</th>\n",
       "      <td>CGKHND</td>\n",
       "      <td>67.310789</td>\n",
       "      <td>621</td>\n",
       "      <td>7.57</td>\n",
       "    </tr>\n",
       "    <tr>\n",
       "      <th>302</th>\n",
       "      <td>DPSKIX</td>\n",
       "      <td>61.904762</td>\n",
       "      <td>609</td>\n",
       "      <td>7.00</td>\n",
       "    </tr>\n",
       "    <tr>\n",
       "      <th>380</th>\n",
       "      <td>HKTSYD</td>\n",
       "      <td>56.074766</td>\n",
       "      <td>535</td>\n",
       "      <td>8.58</td>\n",
       "    </tr>\n",
       "    <tr>\n",
       "      <th>377</th>\n",
       "      <td>HKTPER</td>\n",
       "      <td>60.474308</td>\n",
       "      <td>506</td>\n",
       "      <td>5.62</td>\n",
       "    </tr>\n",
       "    <tr>\n",
       "      <th>727</th>\n",
       "      <td>PERSGN</td>\n",
       "      <td>70.693069</td>\n",
       "      <td>505</td>\n",
       "      <td>5.62</td>\n",
       "    </tr>\n",
       "    <tr>\n",
       "      <th>307</th>\n",
       "      <td>DPSPEK</td>\n",
       "      <td>49.404762</td>\n",
       "      <td>504</td>\n",
       "      <td>6.42</td>\n",
       "    </tr>\n",
       "    <tr>\n",
       "      <th>105</th>\n",
       "      <td>CGKKIX</td>\n",
       "      <td>66.463415</td>\n",
       "      <td>492</td>\n",
       "      <td>7.00</td>\n",
       "    </tr>\n",
       "    <tr>\n",
       "      <th>299</th>\n",
       "      <td>DPSHND</td>\n",
       "      <td>65.424431</td>\n",
       "      <td>483</td>\n",
       "      <td>7.57</td>\n",
       "    </tr>\n",
       "    <tr>\n",
       "      <th>371</th>\n",
       "      <td>HKTKIX</td>\n",
       "      <td>62.091503</td>\n",
       "      <td>459</td>\n",
       "      <td>7.00</td>\n",
       "    </tr>\n",
       "    <tr>\n",
       "      <th>289</th>\n",
       "      <td>DMKMEL</td>\n",
       "      <td>61.925602</td>\n",
       "      <td>457</td>\n",
       "      <td>8.83</td>\n",
       "    </tr>\n",
       "    <tr>\n",
       "      <th>549</th>\n",
       "      <td>KIXSIN</td>\n",
       "      <td>59.810875</td>\n",
       "      <td>423</td>\n",
       "      <td>7.00</td>\n",
       "    </tr>\n",
       "    <tr>\n",
       "      <th>376</th>\n",
       "      <td>HKTPEK</td>\n",
       "      <td>60.756501</td>\n",
       "      <td>423</td>\n",
       "      <td>6.42</td>\n",
       "    </tr>\n",
       "    <tr>\n",
       "      <th>285</th>\n",
       "      <td>DMKICN</td>\n",
       "      <td>62.559242</td>\n",
       "      <td>422</td>\n",
       "      <td>6.62</td>\n",
       "    </tr>\n",
       "    <tr>\n",
       "      <th>715</th>\n",
       "      <td>PENPVG</td>\n",
       "      <td>57.177616</td>\n",
       "      <td>411</td>\n",
       "      <td>5.33</td>\n",
       "    </tr>\n",
       "    <tr>\n",
       "      <th>373</th>\n",
       "      <td>HKTMEL</td>\n",
       "      <td>65.075377</td>\n",
       "      <td>398</td>\n",
       "      <td>8.83</td>\n",
       "    </tr>\n",
       "    <tr>\n",
       "      <th>308</th>\n",
       "      <td>DPSPUS</td>\n",
       "      <td>63.281250</td>\n",
       "      <td>384</td>\n",
       "      <td>6.33</td>\n",
       "    </tr>\n",
       "    <tr>\n",
       "      <th>404</th>\n",
       "      <td>HNDSIN</td>\n",
       "      <td>47.200000</td>\n",
       "      <td>375</td>\n",
       "      <td>7.57</td>\n",
       "    </tr>\n",
       "    <tr>\n",
       "      <th>425</th>\n",
       "      <td>ICNMLE</td>\n",
       "      <td>56.891496</td>\n",
       "      <td>341</td>\n",
       "      <td>6.62</td>\n",
       "    </tr>\n",
       "  </tbody>\n",
       "</table>\n",
       "</div>"
      ],
      "text/plain": [
       "      route  %_passengers_with_baggage  total_passengers  avg_flight_duration\n",
       "6    AKLKUL                  70.719101              4450                 8.83\n",
       "436  ICNSIN                  62.696629              1335                 6.62\n",
       "300  DPSICN                  57.718121              1192                 6.62\n",
       "309  DPSPVG                  64.055794               932                 5.33\n",
       "291  DMKOOL                  65.714286               910                 8.83\n",
       "293  DMKPER                  55.455568               889                 5.62\n",
       "368  HKTICN                  58.354115               802                 6.62\n",
       "296  DMKSYD                  61.465400               737                 8.58\n",
       "397  HNDPEN                  68.587896               694                 7.57\n",
       "102  CGKICN                  69.674556               676                 6.62\n",
       "101  CGKHND                  67.310789               621                 7.57\n",
       "302  DPSKIX                  61.904762               609                 7.00\n",
       "380  HKTSYD                  56.074766               535                 8.58\n",
       "377  HKTPER                  60.474308               506                 5.62\n",
       "727  PERSGN                  70.693069               505                 5.62\n",
       "307  DPSPEK                  49.404762               504                 6.42\n",
       "105  CGKKIX                  66.463415               492                 7.00\n",
       "299  DPSHND                  65.424431               483                 7.57\n",
       "371  HKTKIX                  62.091503               459                 7.00\n",
       "289  DMKMEL                  61.925602               457                 8.83\n",
       "549  KIXSIN                  59.810875               423                 7.00\n",
       "376  HKTPEK                  60.756501               423                 6.42\n",
       "285  DMKICN                  62.559242               422                 6.62\n",
       "715  PENPVG                  57.177616               411                 5.33\n",
       "373  HKTMEL                  65.075377               398                 8.83\n",
       "308  DPSPUS                  63.281250               384                 6.33\n",
       "404  HNDSIN                  47.200000               375                 7.57\n",
       "425  ICNMLE                  56.891496               341                 6.62"
      ]
     },
     "execution_count": 66,
     "metadata": {},
     "output_type": "execute_result"
    }
   ],
   "source": [
    "filtered_routes"
   ]
  },
  {
   "cell_type": "markdown",
   "metadata": {},
   "source": [
    "## Experimental Design"
   ]
  },
  {
   "cell_type": "markdown",
   "metadata": {},
   "source": [
    "Null Hypothesis : Above average duration routes have the same % Passengers with baggage than below average duration routes."
   ]
  },
  {
   "cell_type": "code",
   "execution_count": 70,
   "metadata": {},
   "outputs": [],
   "source": [
    "pop1 = result_df[(result_df['avg_flight_duration'] < mean_flight_duration)]\n",
    "pop2 = result_df[(result_df['avg_flight_duration'] >= mean_flight_duration)]"
   ]
  },
  {
   "cell_type": "markdown",
   "metadata": {},
   "source": [
    "### Assumptions for 2-Sample T-Test:"
   ]
  },
  {
   "cell_type": "markdown",
   "metadata": {},
   "source": [
    "#### Independence"
   ]
  },
  {
   "cell_type": "markdown",
   "metadata": {},
   "source": [
    "- It's important to note that this assumption is dependent on the data collection. While this dataset does not describe the extent of the data collection, we assume that this contains data from a period of time in the Oceania region. Thus, this contains the entire population of flights in the region during the time. There can be, however, some yearly discrepancies that could violate this assumption. We will proceed with the test with this context in mind."
   ]
  },
  {
   "cell_type": "markdown",
   "metadata": {},
   "source": [
    "#### Normality"
   ]
  },
  {
   "cell_type": "code",
   "execution_count": 75,
   "metadata": {},
   "outputs": [
    {
     "name": "stdout",
     "output_type": "stream",
     "text": [
      "Normality (Group 1): p-value = 0.926478423083329\n",
      "Normality (Group 2): p-value = 0.44285004824884006\n"
     ]
    }
   ],
   "source": [
    "group1_data = pop1['%_passengers_with_baggage']\n",
    "group2_data = pop2['%_passengers_with_baggage']\n",
    "\n",
    "# Check for normality\n",
    "normality_group1 = stats.shapiro(group1_data)\n",
    "normality_group2 = stats.shapiro(group2_data)\n",
    "\n",
    "print(\"Normality (Group 1): p-value =\", normality_group1.pvalue)\n",
    "print(\"Normality (Group 2): p-value =\", normality_group2.pvalue)"
   ]
  },
  {
   "cell_type": "markdown",
   "metadata": {},
   "source": [
    "- Based on the above p-values for shapiro tests for both groups, we can conclude that there are no significant deviations from normality."
   ]
  },
  {
   "cell_type": "markdown",
   "metadata": {},
   "source": [
    "#### Metric Scale"
   ]
  },
  {
   "cell_type": "markdown",
   "metadata": {},
   "source": [
    "- In this test, we are comparing the average percentage of passengers that purchase baggages on flights, between the two groups. This implies the comparison of metric scales, and thus we can satisfy this assumption and proceed with the two-sample t-test."
   ]
  },
  {
   "cell_type": "markdown",
   "metadata": {},
   "source": [
    "### Execute 2-Sample T-Test"
   ]
  },
  {
   "cell_type": "code",
   "execution_count": 85,
   "metadata": {},
   "outputs": [
    {
     "name": "stdout",
     "output_type": "stream",
     "text": [
      "T-statistic: -4.4304547949910225\n",
      "P-value: 1.6082733539232e-05\n",
      "Significance level: ***\n"
     ]
    }
   ],
   "source": [
    "# Extract data for the two groups\n",
    "group1_data = pop1['%_passengers_with_baggage']\n",
    "group2_data = pop2['%_passengers_with_baggage']\n",
    "\n",
    "# Perform two-sample t-test\n",
    "t_statistic, p_value = stats.ttest_ind(group1_data, group2_data, equal_var=False)  \n",
    "\n",
    "# Print the results\n",
    "print(\"T-statistic:\", t_statistic)\n",
    "print(\"P-value:\", p_value)\n",
    "\n",
    "# Define significance levels and corresponding stars\n",
    "significance_levels = [0.01, 0.05, 0.1]\n",
    "stars = ['***', '**', '*']\n",
    "\n",
    "# Find the corresponding significance level for the p-value\n",
    "significance_level = next((stars[i] for i, level in enumerate(significance_levels) if p_value <= level), '')\n",
    "\n",
    "# Print the result with significance level stars\n",
    "print(\"Significance level:\", significance_level)"
   ]
  },
  {
   "cell_type": "markdown",
   "metadata": {},
   "source": [
    "### Conclusion"
   ]
  },
  {
   "cell_type": "markdown",
   "metadata": {},
   "source": [
    "- The p-value is less than the significance level 0.05. We can reject the null hypothesis of equal means. This suggests that there is significant evidence to conclude that the means of the two groups are different.\n",
    "\n",
    "- Practically, this suggests that above-average or below-average flight durations do have a statistically significant impact on the percentage of passengers that purchase a baggage."
   ]
  },
  {
   "cell_type": "markdown",
   "metadata": {},
   "source": [
    "#### Let's take another step. \n",
    "\n",
    "- This can suggest that there are a multitude of factors, not just flight duration, that influence the purchase of bags on a given flight route. We will use machine learning to predict passengers that are likely to purchase bags given the other variables within the dataset. \n",
    "\n",
    "- For opportune routes (that underperform on the average percentage of baggage purchases in Oceania routes), identifying customers that are more willing to buy baggage on these routes for promotional strategies would be ideal in improving baggage conversion as well as marginal revenue improvements."
   ]
  },
  {
   "cell_type": "markdown",
   "metadata": {},
   "source": []
  }
 ],
 "metadata": {
  "kernelspec": {
   "display_name": "python310mids",
   "language": "python",
   "name": "python3"
  },
  "language_info": {
   "codemirror_mode": {
    "name": "ipython",
    "version": 3
   },
   "file_extension": ".py",
   "mimetype": "text/x-python",
   "name": "python",
   "nbconvert_exporter": "python",
   "pygments_lexer": "ipython3",
   "version": "3.10.12"
  }
 },
 "nbformat": 4,
 "nbformat_minor": 2
}
